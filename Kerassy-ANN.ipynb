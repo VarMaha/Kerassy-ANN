{
  "cells": [
    {
      "metadata": {
        "_uuid": "8f2839f25d086af736a60e9eeb907d3b93b6e0e5",
        "_cell_guid": "b1076dfc-b9ad-4769-8c92-a6c4dae69d19",
        "trusted": true
      },
      "cell_type": "code",
      "source": "# This Python 3 environment comes with many helpful analytics libraries installed\n# It is defined by the kaggle/python docker image: https://github.com/kaggle/docker-python\n# For example, here's several helpful packages to load in \n\nimport numpy as np \nimport matplotlib\nimport matplotlib.pyplot as plt\nimport pandas as pd\nimport os\nfrom sklearn.model_selection import train_test_split\nfrom sklearn.metrics import accuracy_score\nfrom sklearn.preprocessing import LabelEncoder,MinMaxScaler\nprint(os.listdir(\"../input\"))\nnp.random.seed(5)\n# Any results you write to the current directory are saved as output.",
      "execution_count": null,
      "outputs": []
    },
    {
      "metadata": {
        "_cell_guid": "79c7e3d0-c299-4dcb-8224-4455121ee9b0",
        "_uuid": "d629ff2d2480ee46fbb7e2d37f6b5fab8052498a",
        "trusted": true
      },
      "cell_type": "code",
      "source": "x1c1=np.random.random((1000,1))\nx2c1=-5*x1c1+3+(np.random.randint(3,size=(1000,1))+1)*np.random.random((1000,1))\ny1=np.ones((1000,1))\nx1c2=np.random.random((1000,1))\nx2c2=-5*x1c2+3-(np.random.randint(3,size=(1000,1))+1)*np.random.random((1000,1))\ny2=np.zeros((1000,1))\ndf1=np.concatenate((x1c1,x2c1),axis=1)\ndf2=np.concatenate((x1c2,x2c2),axis=1)\ndf1=np.concatenate((df1,df2),axis=0)\ny1=np.concatenate((y1,y2),axis=0)\ndf1=np.concatenate((df1,y1),axis=1)\nnp.random.shuffle(df1)\ny1=df1[:,2].flatten().astype(int)\nprint(y1)\ny1=np.eye(2)[y1]\ndf1=df1[:,:2]\nprint(df1)\ntrainX=df1\ntrainY=y1\ntrainX,testX,trainY,testY=train_test_split(trainX,trainY,test_size=0.3,stratify=trainY,random_state=2)\ntestX,valX,testY,valY=train_test_split(testX,testY,test_size=0.33,stratify=testY,random_state=2)",
      "execution_count": null,
      "outputs": []
    },
    {
      "metadata": {
        "trusted": true,
        "_uuid": "64c589544cd7c773d1e3d7e6d680cfb287363ec5"
      },
      "cell_type": "code",
      "source": "'''trainX=pd.read_csv(\"../input/iris.data.csv\",header=None,names=[\"x1\",\"x2\",\"x3\",\"x4\",\"y\"])\ntrainY=trainX[\"y\"]\ntrainY=LabelEncoder().fit_transform(trainY.values)\ntrainY=np.eye(3)[trainY]\ntrainX=trainX.drop([\"y\"],axis=1).values\ntrainX=MinMaxScaler().fit_transform(trainX)\ntrainX,testX,trainY,testY=train_test_split(trainX,trainY,test_size=0.3,stratify=trainY,random_state=2)\ntestX,valX,testY,valY=train_test_split(testX,testY,test_size=0.33,stratify=testY,random_state=2)'''\n",
      "execution_count": null,
      "outputs": []
    },
    {
      "metadata": {
        "trusted": true,
        "_uuid": "c99292c6afdbe361b2f23b2a3ace788ffddf57e9"
      },
      "cell_type": "code",
      "source": "print(trainX.shape,trainY.shape)\nprint(valX.shape,valY.shape)\nprint(testX.shape,testY.shape)",
      "execution_count": null,
      "outputs": []
    },
    {
      "metadata": {
        "trusted": true,
        "_uuid": "57a61e8bf42f3b010959830718d2071d51e92b21"
      },
      "cell_type": "code",
      "source": "label=np.argmax(trainY,axis=1)\ncolors=[\"orange\",\"black\"]\nplt.scatter(trainX[:,0], trainX[:,1], c=label, cmap=matplotlib.colors.ListedColormap(colors))\n",
      "execution_count": null,
      "outputs": []
    },
    {
      "metadata": {
        "trusted": true,
        "_uuid": "2e184f8e60c2af0634bb440e839a6e0e7297e25b"
      },
      "cell_type": "code",
      "source": "def sigmoid(x):\n    return 1/(1+np.exp(-x))\n\nclass Model:\n    chkptw=None\n    def __init__(self):\n        self.layer_count=0\n        self.weights={}\n        self.biases={}\n        self.l_dims=[]\n        self.grad_W={}\n        self.grad_b={}\n        self.layer_ops={}\n        self.summary={}\n        self.history={\"train_loss\":[],\"val_loss\":[],\"train_acc\":[],\"val_acc\":[]}\n        \n    def Dense(self,nodes=1,input_shape=None):\n        self.layer_count+=1\n        if input_shape:\n            self.l_dims.append(input_shape)\n        self.l_dims.append(nodes)\n        return np.random.random_sample((nodes,self.l_dims[self.layer_count-1])),np.random.random_sample((nodes,1))\n        \n    def add(self,weights):\n        self.weights[f\"w_{self.layer_count}\"]=weights[0]\n        self.biases[f\"b_{self.layer_count}\"]=weights[1]\n        self.summary[f\"Dense_{self.layer_count}\"]=weights[0].shape\n        \n    def predict(self,x):\n        self.layer_ops[\"v_0\"]=x\n        for i in range(self.layer_count):\n            x=self.layer_ops[f\"v_{i}\"]\n            x=np.dot(x,self.weights[f'w_{i+1}'].T)\n            x=sigmoid(x)\n            self.layer_ops[f'v_{i+1}']=np.add(x,self.biases[f\"b_{i+1}\"].T)\n        return x\n    \n    def fit(self,X,Y,validation_data=None,epochs=100000,batch_size=10,lr=0.005):\n        batches=X.shape[0]//batch_size\n        best_acc=0\n        if validation_data:\n            valX,valY=validation_data\n        for e in range(epochs):\n            loss=0\n            for i in range(batches):\n                x=X[i*batch_size:i+1*batch_size]\n                y=Y[i*batch_size:i+1*batch_size]\n                v=self.predict(x)\n                grad_base=((v-y)*(1-v)*v).T\n                for j in reversed(range(1,self.layer_count+1)):\n                    self.grad_W[f'{\"w_\"}{j}']=grad_base\n                    for k in reversed(range(j,self.layer_count)):\n                        self.grad_W[f'{\"w_\"}{j}']=np.dot(self.weights[f'{\"w_\"}{k+1}'].T,self.grad_W[f'{\"w_\"}{j}'])\n                        self.grad_W[f'{\"w_\"}{j}']=self.grad_W[f'{\"w_\"}{j}']*(self.layer_ops[f'{\"v_\"}{k}']*(1-self.layer_ops[f'{\"v_\"}{k}'])).T\n                    self.grad_b[f\"b_{j}\"]=np.sum(self.grad_W[f\"w_{j}\"],axis=1).reshape(self.biases[f\"b_{j}\"].shape)\n                    self.grad_W[f'{\"w_\"}{j}']=np.dot(self.grad_W[f'{\"w_\"}{j}'],self.layer_ops[f'{\"v_\"}{j-1}'])\n                    self.weights[f'{\"w_\"}{j}']-=lr*self.grad_W[f'{\"w_\"}{j}']\n                    self.biases[f'b_{j}']-=lr*self.grad_b[f\"b_{j}\"]\n                loss+=np.sum((v-y)*(v-y))/(2*batch_size)\n            val_loss=0\n            train_acc=accuracy_score(np.argmax(trainY,axis=1),np.argmax(self.predict(trainX),axis=1))\n            self.history[\"train_acc\"].append(train_acc)\n            self.history[\"train_loss\"].append(loss)\n            if validation_data:\n                val_v=self.predict(valX)\n                val_loss+=np.sum((val_v-valY)*(val_v-valY))/(2*valX.shape[0])\n                val_acc=accuracy_score(np.argmax(valY,axis=1),np.argmax(self.predict(valX),axis=1))\n                self.history[\"val_acc\"].append(val_acc)\n                self.history[\"val_loss\"].append(val_loss)\n                if best_acc<val_acc:\n                    best_acc=val_acc\n                    chkptw=self\n                print(f\"epoch {e}  train loss: {loss}  validation loss:{val_loss}\")\n            else:\n                print(f\"epoch {e}  train loss: {loss} \")\n        return chkptw",
      "execution_count": null,
      "outputs": []
    },
    {
      "metadata": {
        "trusted": true,
        "_uuid": "ae20771d7a92dfbbc58f7cd9fa1d4cd1185c3b3b",
        "scrolled": true
      },
      "cell_type": "code",
      "source": "model=Model()\nmodel.add(model.Dense(nodes=4,input_shape=trainX.shape[1]))\nmodel.add(model.Dense(nodes=3))\nmodel.add(model.Dense(trainY.shape[1]))\nmodel.fit(trainX,trainY,validation_data=[valX,valY],epochs=6000,batch_size=50)",
      "execution_count": null,
      "outputs": []
    },
    {
      "metadata": {
        "trusted": true,
        "_uuid": "dd37a66c392d1e3d2c89fa51b63786e08e9d4815"
      },
      "cell_type": "code",
      "source": "plt.plot(model.history['train_acc'])\nplt.plot(model.history['val_acc'])\nplt.title('Model accuracy')\nplt.ylabel('Accuracy')\nplt.xlabel('Epoch')\nplt.legend(['Train', 'Validation'], loc='upper left')\nplt.show()\n\n# Plot training & validation loss values\nplt.plot(model.history['train_loss'])\nplt.plot(model.history['val_loss'])\nplt.title('Model loss')\nplt.ylabel('Loss')\nplt.xlabel('Epoch')\nplt.legend(['Train', 'Validation'], loc='upper left')\nplt.show()",
      "execution_count": null,
      "outputs": []
    },
    {
      "metadata": {
        "trusted": true,
        "_uuid": "0c6f4a876512798509033c72c30da942740e95a4"
      },
      "cell_type": "code",
      "source": "accuracy_score(np.argmax(testY,axis=1),np.argmax(model.predict(testX),axis=1))",
      "execution_count": null,
      "outputs": []
    },
    {
      "metadata": {
        "trusted": true,
        "_uuid": "1b59a05d0ed99b60f0c2d4debbda4fb77ae98675"
      },
      "cell_type": "code",
      "source": "for key,values in model.biases.items():\n    print(key,values.shape)",
      "execution_count": null,
      "outputs": []
    },
    {
      "metadata": {
        "trusted": true,
        "_uuid": "f9b1847a30cdbfbe4c957ba0d428176ff463e2f1"
      },
      "cell_type": "code",
      "source": "for key,values in model.layer_ops.items():\n    print(key,values.shape)",
      "execution_count": null,
      "outputs": []
    },
    {
      "metadata": {
        "trusted": true,
        "_uuid": "8254e32b8144c5bb791cdd506dccc8dcc4978e4a",
        "collapsed": true
      },
      "cell_type": "code",
      "source": "for key,values in model.weights.items():\n    print(key,values.shape)",
      "execution_count": null,
      "outputs": []
    },
    {
      "metadata": {
        "trusted": true,
        "_uuid": "7dce697d80f62033bc1c0a3c38ef5daa805bc596",
        "collapsed": true
      },
      "cell_type": "code",
      "source": "model.biases",
      "execution_count": null,
      "outputs": []
    },
    {
      "metadata": {
        "trusted": true,
        "_uuid": "3ab1c8a7a6d8ec106857a04b1f37da172fbac53e"
      },
      "cell_type": "code",
      "source": "chkptw.biases",
      "execution_count": null,
      "outputs": []
    },
    {
      "metadata": {
        "trusted": true,
        "_uuid": "2d1adcfc0d343aa48ab30e829af33cac8840c22a"
      },
      "cell_type": "code",
      "source": "trainX.shape",
      "execution_count": null,
      "outputs": []
    },
    {
      "metadata": {
        "trusted": true,
        "_uuid": "b6df24b8b42b29b240d76bdf3a960a610a17a6a3"
      },
      "cell_type": "code",
      "source": "trainY.shape",
      "execution_count": null,
      "outputs": []
    },
    {
      "metadata": {
        "trusted": true,
        "_uuid": "7b5ed6d7b7948ae3b53723b6da43b355186c887b"
      },
      "cell_type": "code",
      "source": "np.argmax(chkptw.predict(testX),axis=1)",
      "execution_count": null,
      "outputs": []
    }
  ],
  "metadata": {
    "kernelspec": {
      "display_name": "Python 3",
      "language": "python",
      "name": "python3"
    },
    "language_info": {
      "name": "python",
      "version": "3.6.6",
      "mimetype": "text/x-python",
      "codemirror_mode": {
        "name": "ipython",
        "version": 3
      },
      "pygments_lexer": "ipython3",
      "nbconvert_exporter": "python",
      "file_extension": ".py"
    }
  },
  "nbformat": 4,
  "nbformat_minor": 1
}